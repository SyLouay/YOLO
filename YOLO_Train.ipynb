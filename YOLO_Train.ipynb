{
  "cells": [
    {
      "cell_type": "markdown",
      "source": [
        "### Mounting Google Drive in Colab for Easy Data Access"
      ],
      "metadata": {
        "id": "FnT_o4q6Bv3k"
      }
    },
    {
      "cell_type": "code",
      "execution_count": 16,
      "metadata": {
        "colab": {
          "base_uri": "https://localhost:8080/"
        },
        "id": "64RVoh7ZQ6Uy",
        "outputId": "df20cc39-ac87-4bb2-dd5b-46d41d13b024"
      },
      "outputs": [
        {
          "output_type": "stream",
          "name": "stdout",
          "text": [
            "Drive already mounted at /content/gdrive; to attempt to forcibly remount, call drive.mount(\"/content/gdrive\", force_remount=True).\n"
          ]
        }
      ],
      "source": [
        "from google.colab import drive\n",
        "\n",
        "drive.mount('/content/gdrive')"
      ]
    },
    {
      "cell_type": "markdown",
      "source": [
        "### Data preprocessing"
      ],
      "metadata": {
        "id": "s-tuRm2MB8Tg"
      }
    },
    {
      "cell_type": "code",
      "execution_count": 10,
      "metadata": {
        "colab": {
          "base_uri": "https://localhost:8080/"
        },
        "id": "rvwnKxa9fnR3",
        "outputId": "f4206a2c-1608-4e77-dfdd-64d6aee0aa36"
      },
      "outputs": [
        {
          "output_type": "stream",
          "name": "stdout",
          "text": [
            "['00d69426-4c6a-4bf3-8baf-8db431b6ca01', '01fdfbd8-2490-4086-a11f-9b08a60b94c0', '02b4d355-3a3a-4e92-b10b-54c89a2310f3', '02cad037-bf20-4bf4-9c7d-d95b67239ac5', '04b3e6a6-96af-47c7-96ac-25eb4c8fc2e2', '04fa318f-dbec-4014-9420-e5103bb54058', '05a1ec4e-ffed-4745-a1a9-9805787c217a', '0a8ba46d-c2e3-4152-a7b0-240be9ed9a5d', '0b44371e-9ccd-4c5c-aac1-3a49bc3911f7', '0bdfd699-c46a-4e65-be8f-a1ca7a744708', '0d78a7e8-0b89-4c75-8646-7aef107a3341', '0dad6723-bec7-41ce-8c93-d7ad58768272', '0e318ead-743c-4d2e-a52e-d36cfdca2316', '0ecf455e-5a85-4cee-984e-1d810a19e03b', '1ab1badf-7a21-4be2-afc3-8ab04d908568', '1ae8f13e-d4ef-4398-8e5f-313b2025972a', '1bec202a-e28f-44e3-99a1-bfd77180a631', '1d5da618-180b-4452-812d-d9b51e6d6a2f', '1d6e11d9-4a0b-442e-965b-406e1bfbc5da', '1d9a2b7c-a14b-4b82-8df0-0aa437446840', '1de28a1b-3463-44b5-8203-9af7b0e2f16d', '1defb81e-e0d9-4917-a9e2-44d5233f590f', '1e18123b-b2bb-476a-a174-d6d7681e6ef6', '1e7a35d3-2c06-49db-bffc-ee5533e4773e', '1ea3ba3e-217a-4ad2-8ec2-4d000330a61f', '1f0ea18f-bba7-4d42-9a56-620ec92e830d', '1fab3b1e-5245-4b32-ad88-4c03ceb637bc', '2a407122-bc80-42bb-b8d9-258242fc3757', '2a703634-ec8d-4541-83d7-b31f40eb027c', '2aae7b65-5e3d-47ca-9dac-efb767cf4a8c', '2b8c28ba-ef59-43c7-b470-3d42a192ea38', '2c72fb53-7c68-4caf-9ea4-1999cd63ba1c', '2d17a397-58c3-4093-a3c7-ebaef43e6a90', '2d4ea2f9-29df-4b5d-864a-1c54b46827d7', '2dee5dcf-10d7-452d-ad16-a1d68e765e8b', '2eaf3b75-8989-4982-b6ca-df1a8d3cbbab', '2ebfed3f-0d0c-4a83-b129-b257ade23eae', '2ee282e9-3289-4821-adf8-daa4e5349ec5', '2fd076ca-905d-45c6-b337-bbc3ccb568fc', '3a01c500-9fbc-4f73-86e5-28fb22ff9bb9', '3a197421-07ae-4955-9af9-cdb57df2ebd7', '3a3b2db8-fe4c-40aa-9c68-eb0ba97f6833', '3a842491-134e-44e7-af6c-1324882406e4', '3ae95e3c-2ae1-4797-b05c-39dfaf5a0994', '3b0adf0c-5cb5-4e95-869b-a5f3f341cf43', '3bad7005-51e7-4e27-bcb5-fbf19a409e65', '3c34e447-5099-423a-869a-4cb28cc1ee06', '3c39b600-89bb-4aa5-9bf2-85360fbc8bba', '3d74d67b-37b2-40d5-86d3-e053a57f3ef9', '3d9d0bcc-4fdc-4385-8c58-45d17bca18a3', '3dd8e8ad-a030-4e6a-ad61-907be3b3a7e8', '3ddb3ef5-aac4-4176-86f1-e4bb5eac8a9b', '3e0a3980-5ee9-4eb9-95f6-2569efc82eb1', '3f094306-280f-4ad8-b7b8-77c8f2d417ff', '3f41360a-745a-4931-b8f4-78c56d6522ca', '4a37f6af-79f0-47eb-aa64-ab53d629127e', '4a84d3b4-8e42-4c1a-b34f-0dfc4ef596a2', '4cbcc96b-5772-497e-8948-1e5805e68b67', '4d0c958d-375e-4d1b-8cbb-2c12913655b9', '4d948dda-f6c5-4215-ba27-90a7215e187f', '4dba74cd-9825-4f97-8ee2-89560723b71a', '4e1266d8-2e77-4272-aa20-73dd5c408b6a', '4e39dec5-f6a4-4866-9ae5-a9d50a8be760', '4ecbfd67-2a45-4770-97e7-667aa9fccc56', '4ef65256-327c-4f9e-84f4-72514292371f', '5a1dc3e8-9ba8-4407-8e4f-c022e7f4916e', '5aacd35e-b32a-44cc-aee6-7d971c161b17', '5afab981-e389-4eb3-b937-efba0f985a49', '5b56d5c8-dded-4f4a-ad1d-eb784f8e45d1', '5cba9610-5a84-4b1e-b8ab-89778d77a1c2', '5d4c3d8f-d418-471f-9639-76326412212b', '5dc8709d-c083-4528-832c-df433f9f6d2e', '5dc99d19-7dd2-42dc-8084-3b712951c5bd', '5dfbe439-6114-479e-883c-4d1b38ab1dee', '5e8983f4-137d-4854-bc86-746e85232722', '5e9b42c8-0288-4751-9b8f-86d4d0d80eec', '5ee50fe2-88d7-4909-a476-b45799fccfed', '5f5b3f44-460e-48d4-b323-b29fdf7b7854', '5fce1464-147f-496b-b1ec-cb1f4d7f3dae', '6b3fe65c-e200-4b42-b27a-6b09196bb5a7', '6c3d7b4f-6fcc-403c-901e-f7cb8d70e369', '6c5caa97-68b7-46b6-a2ac-862ec2fb6206', '6c808849-844b-4128-b238-7ce16b47e936', '6ddf7d0b-d800-449d-a32c-1a58b3b97378', '6e58ca1c-e358-4150-a425-ce187497d131', '6ec34c8e-a9d7-4e6f-8f7e-d6ff430b2788', '6f196fb5-10b4-41ca-9fde-dfcfa59dac23', '6f35a1c8-cd8b-4b3b-9331-f04deb0c9968', '6f5fe567-ef5b-4669-94b6-987090335f68', '6f6d0f01-b741-4f88-891f-33bc26287c8b', '6fa4c7bf-6631-49d7-9f09-45f8c4c3a441', '6ff3c5f1-e0b2-4946-a66b-eb9d077faf34', '7a34cef2-23c0-4726-8965-402e53dc6c61', '7a505939-f363-43ba-a3a7-e9d312c223d8', '7a843685-d021-4505-b2c7-c83e8762ff1b', '7ad31c73-7980-42f9-b0ba-a84034c73cf5', '7b0a58a5-0f3c-4a0e-8cbd-8a7e007b9693', '7bbe6fad-fb81-4aca-ae24-5433a2150a87', '7bc77e7d-a221-4bed-84e6-147c9764f7ad', '7cf7fd50-5bda-48f6-99d0-9ce89a129c63']\n"
          ]
        }
      ],
      "source": [
        "import os\n",
        "\n",
        "# Specify the path to your directory\n",
        "directory_path = '/content/gdrive/MyDrive/200_cv/labels_json'\n",
        "\n",
        "# Get a sorted list of all files in the directory\n",
        "file_names = [file_name.replace(\".json\", \"\") for file_name in sorted(os.listdir(directory_path))]\n",
        "\n",
        "# Print or use the list as needed\n",
        "print(file_names)\n"
      ]
    },
    {
      "cell_type": "code",
      "source": [
        "#train_set and val_set\n",
        "file_names_train=file_names[:80]\n",
        "file_names_val=file_names[80:]\n",
        "print(len(file_names_train),len(file_names_val))"
      ],
      "metadata": {
        "colab": {
          "base_uri": "https://localhost:8080/"
        },
        "id": "hkFPUsjNsXOZ",
        "outputId": "43611f1a-2b93-486a-ed86-6caa330f12ba"
      },
      "execution_count": 11,
      "outputs": [
        {
          "output_type": "stream",
          "name": "stdout",
          "text": [
            "80 20\n"
          ]
        }
      ]
    },
    {
      "cell_type": "code",
      "execution_count": 14,
      "metadata": {
        "id": "XrH9GoWpi86z"
      },
      "outputs": [],
      "source": [
        "import json\n",
        "import base64\n",
        "from PIL import Image\n",
        "from io import BytesIO\n",
        "import shutil\n",
        "\n",
        "#train_set\n",
        "\n",
        "labels={}\n",
        "for file_name in file_names_train:\n",
        "  ch=''\n",
        "  json_file_path = '/content/gdrive/MyDrive/200_cv/labels_json/'+file_name+'.json'\n",
        "  with open(json_file_path, 'r') as json_file:\n",
        "    json_data = json.load(json_file)\n",
        "  encoded_image=json_data['imageData']\n",
        "  image_data = base64.b64decode(encoded_image)\n",
        "  image = Image.open(BytesIO(image_data))\n",
        "  width, height = image.size\n",
        "  for shape in json_data['shapes']:\n",
        "    if shape['label'] not in ['bloc','nobloc']:\n",
        "      if shape['label'] in labels:\n",
        "        label = labels[shape['label']]\n",
        "      else:\n",
        "        labels[shape['label']]=len(labels)\n",
        "        label=labels[shape['label']]\n",
        "      x_center=(shape['points'][0][0]+shape['points'][1][0])/(2*width)\n",
        "      y_center=(shape['points'][0][1]+shape['points'][1][1])/(2*height)\n",
        "      box_width=(shape['points'][1][0]-shape['points'][0][0])/width\n",
        "      box_height=(shape['points'][1][1]-shape['points'][0][1])/height\n",
        "      ch = ch+str(label)+' '+str(x_center)+' '+str(y_center)+' '+str(box_width)+' '+str(box_height)+'\\n'\n",
        "  with open('/content/gdrive/MyDrive/200_cv/data/train/labels/'+file_name+'.txt', 'w') as txt_file:\n",
        "    txt_file.write(ch)\n",
        "  source_path_image ='/content/gdrive/MyDrive/200_cv/cvs/'+file_name+'.jpg'\n",
        "  destination_path_image='/content/gdrive/MyDrive/200_cv/data/train/images/'\n",
        "  shutil.copy(source_path_image, destination_path_image)\n"
      ]
    },
    {
      "cell_type": "code",
      "source": [
        "#val_set\n",
        "for file_name in file_names_val:\n",
        "  ch=''\n",
        "  json_file_path = '/content/gdrive/MyDrive/200_cv/labels_json/'+file_name+'.json'\n",
        "  with open(json_file_path, 'r') as json_file:\n",
        "    json_data = json.load(json_file)\n",
        "  encoded_image=json_data['imageData']\n",
        "  image_data = base64.b64decode(encoded_image)\n",
        "  image = Image.open(BytesIO(image_data))\n",
        "  width, height = image.size\n",
        "  for shape in json_data['shapes']:\n",
        "    if shape['label'] not in ['bloc','nobloc']:\n",
        "      if shape['label'] in labels:\n",
        "        label = labels[shape['label']]\n",
        "      else:\n",
        "        labels[shape['label']]=len(labels)\n",
        "        label=labels[shape['label']]\n",
        "      x_center=(shape['points'][0][0]+shape['points'][1][0])/(2*width)\n",
        "      y_center=(shape['points'][0][1]+shape['points'][1][1])/(2*height)\n",
        "      box_width=(shape['points'][1][0]-shape['points'][0][0])/width\n",
        "      box_height=(shape['points'][1][1]-shape['points'][0][1])/height\n",
        "      ch = ch+str(label)+' '+str(x_center)+' '+str(y_center)+' '+str(box_width)+' '+str(box_height)+'\\n'\n",
        "  with open('/content/gdrive/MyDrive/200_cv/data/val/labels/'+file_name+'.txt', 'w') as txt_file:\n",
        "    txt_file.write(ch)\n",
        "  source_path_image ='/content/gdrive/MyDrive/200_cv/cvs/'+file_name+'.jpg'\n",
        "  destination_path_image='/content/gdrive/MyDrive/200_cv/data/val/images/'\n",
        "  shutil.copy(source_path_image, destination_path_image)\n"
      ],
      "metadata": {
        "id": "YKKrpJhgxGN7"
      },
      "execution_count": 15,
      "outputs": []
    },
    {
      "cell_type": "code",
      "execution_count": 17,
      "metadata": {
        "id": "QpSIIKTK_NTG"
      },
      "outputs": [],
      "source": [
        "#bloc\n",
        "#nobloc\n",
        "#Picture"
      ]
    },
    {
      "cell_type": "code",
      "execution_count": 18,
      "metadata": {
        "colab": {
          "base_uri": "https://localhost:8080/"
        },
        "id": "FXJ8yZ7UpRMj",
        "outputId": "01c85467-631e-41a6-8352-a9392fd288c3"
      },
      "outputs": [
        {
          "output_type": "execute_result",
          "data": {
            "text/plain": [
              "{'Experience': 0,\n",
              " 'Education': 1,\n",
              " 'Projects': 2,\n",
              " 'Certifications': 3,\n",
              " 'Languages': 4,\n",
              " 'Skills': 5,\n",
              " 'Picture': 6,\n",
              " 'Name': 7,\n",
              " 'Profil': 8,\n",
              " 'Contact': 9,\n",
              " 'Interests': 10,\n",
              " 'Community': 11}"
            ]
          },
          "metadata": {},
          "execution_count": 18
        }
      ],
      "source": [
        "labels"
      ]
    },
    {
      "cell_type": "code",
      "execution_count": null,
      "metadata": {
        "id": "HTdEUMUYi9Ac"
      },
      "outputs": [],
      "source": [
        "import cv2\n",
        "from google.colab.patches import cv2_imshow\n",
        "import numpy as np\n",
        "\n",
        "#test\n",
        "\n",
        "# Load your image\n",
        "image_path = \"/content/gdrive/MyDrive/200_cv/data/images/7cf7fd50-5bda-48f6-99d0-9ce89a129c63.jpg\"\n",
        "image = cv2.imread(image_path)\n",
        "\n",
        "# Sample normalized annotations\n",
        "annotations = [\n",
        "    [0, 0.6683099246581713,0.3153670730637664,0.6542027098254425,0.18748355407420403],\n",
        "    # Add more annotations as needed\n",
        "]\n",
        "\n",
        "# Convert normalized coordinates to pixel values\n",
        "height, width, _ = image.shape\n",
        "for annotation in annotations:\n",
        "    class_label, x_center, y_center, box_width, box_height = annotation\n",
        "    x_min = int((x_center - box_width / 2) * width)\n",
        "    y_min = int((y_center - box_height / 2) * height)\n",
        "    x_max = int((x_center + box_width / 2) * width)\n",
        "    y_max = int((y_center + box_height / 2) * height)\n",
        "\n",
        "    # Draw rectangle on the image\n",
        "    color = (0, 255, 0)  # Green color\n",
        "    thickness = 2\n",
        "    image = cv2.rectangle(image, (x_min, y_min), (x_max, y_max), color, thickness)\n",
        "\n",
        "# Display the image with rectangles\n",
        "cv2_imshow(image)\n",
        "cv2.waitKey(0)\n",
        "cv2.destroyAllWindows()\n"
      ]
    },
    {
      "cell_type": "code",
      "execution_count": 3,
      "metadata": {
        "colab": {
          "base_uri": "https://localhost:8080/"
        },
        "id": "iuUAi2-sQ7HU",
        "outputId": "6346f63b-9699-4b56-d74d-ff39aeb9c9a0"
      },
      "outputs": [
        {
          "output_type": "stream",
          "name": "stdout",
          "text": [
            "Collecting ultralytics\n",
            "  Downloading ultralytics-8.0.222-py3-none-any.whl (653 kB)\n",
            "\u001b[?25l     \u001b[90m━━━━━━━━━━━━━━━━━━━━━━━━━━━━━━━━━━━━━━━━\u001b[0m \u001b[32m0.0/654.0 kB\u001b[0m \u001b[31m?\u001b[0m eta \u001b[36m-:--:--\u001b[0m\r\u001b[2K     \u001b[91m━━━━━━━━\u001b[0m\u001b[91m╸\u001b[0m\u001b[90m━━━━━━━━━━━━━━━━━━━━━━━━━━━━━━━\u001b[0m \u001b[32m143.4/654.0 kB\u001b[0m \u001b[31m4.0 MB/s\u001b[0m eta \u001b[36m0:00:01\u001b[0m\r\u001b[2K     \u001b[91m━━━━━━━━━━━━━━━━━━━━━━━━━━━━━━━━━━━━━━━\u001b[0m\u001b[90m╺\u001b[0m \u001b[32m645.1/654.0 kB\u001b[0m \u001b[31m10.9 MB/s\u001b[0m eta \u001b[36m0:00:01\u001b[0m\r\u001b[2K     \u001b[90m━━━━━━━━━━━━━━━━━━━━━━━━━━━━━━━━━━━━━━━━\u001b[0m \u001b[32m654.0/654.0 kB\u001b[0m \u001b[31m8.9 MB/s\u001b[0m eta \u001b[36m0:00:00\u001b[0m\n",
            "\u001b[?25hRequirement already satisfied: matplotlib>=3.3.0 in /usr/local/lib/python3.10/dist-packages (from ultralytics) (3.7.1)\n",
            "Requirement already satisfied: numpy>=1.22.2 in /usr/local/lib/python3.10/dist-packages (from ultralytics) (1.23.5)\n",
            "Requirement already satisfied: opencv-python>=4.6.0 in /usr/local/lib/python3.10/dist-packages (from ultralytics) (4.8.0.76)\n",
            "Requirement already satisfied: pillow>=7.1.2 in /usr/local/lib/python3.10/dist-packages (from ultralytics) (9.4.0)\n",
            "Requirement already satisfied: pyyaml>=5.3.1 in /usr/local/lib/python3.10/dist-packages (from ultralytics) (6.0.1)\n",
            "Requirement already satisfied: requests>=2.23.0 in /usr/local/lib/python3.10/dist-packages (from ultralytics) (2.31.0)\n",
            "Requirement already satisfied: scipy>=1.4.1 in /usr/local/lib/python3.10/dist-packages (from ultralytics) (1.11.4)\n",
            "Requirement already satisfied: torch>=1.8.0 in /usr/local/lib/python3.10/dist-packages (from ultralytics) (2.1.0+cu118)\n",
            "Requirement already satisfied: torchvision>=0.9.0 in /usr/local/lib/python3.10/dist-packages (from ultralytics) (0.16.0+cu118)\n",
            "Requirement already satisfied: tqdm>=4.64.0 in /usr/local/lib/python3.10/dist-packages (from ultralytics) (4.66.1)\n",
            "Requirement already satisfied: pandas>=1.1.4 in /usr/local/lib/python3.10/dist-packages (from ultralytics) (1.5.3)\n",
            "Requirement already satisfied: seaborn>=0.11.0 in /usr/local/lib/python3.10/dist-packages (from ultralytics) (0.12.2)\n",
            "Requirement already satisfied: psutil in /usr/local/lib/python3.10/dist-packages (from ultralytics) (5.9.5)\n",
            "Requirement already satisfied: py-cpuinfo in /usr/local/lib/python3.10/dist-packages (from ultralytics) (9.0.0)\n",
            "Collecting thop>=0.1.1 (from ultralytics)\n",
            "  Downloading thop-0.1.1.post2209072238-py3-none-any.whl (15 kB)\n",
            "Requirement already satisfied: contourpy>=1.0.1 in /usr/local/lib/python3.10/dist-packages (from matplotlib>=3.3.0->ultralytics) (1.2.0)\n",
            "Requirement already satisfied: cycler>=0.10 in /usr/local/lib/python3.10/dist-packages (from matplotlib>=3.3.0->ultralytics) (0.12.1)\n",
            "Requirement already satisfied: fonttools>=4.22.0 in /usr/local/lib/python3.10/dist-packages (from matplotlib>=3.3.0->ultralytics) (4.45.1)\n",
            "Requirement already satisfied: kiwisolver>=1.0.1 in /usr/local/lib/python3.10/dist-packages (from matplotlib>=3.3.0->ultralytics) (1.4.5)\n",
            "Requirement already satisfied: packaging>=20.0 in /usr/local/lib/python3.10/dist-packages (from matplotlib>=3.3.0->ultralytics) (23.2)\n",
            "Requirement already satisfied: pyparsing>=2.3.1 in /usr/local/lib/python3.10/dist-packages (from matplotlib>=3.3.0->ultralytics) (3.1.1)\n",
            "Requirement already satisfied: python-dateutil>=2.7 in /usr/local/lib/python3.10/dist-packages (from matplotlib>=3.3.0->ultralytics) (2.8.2)\n",
            "Requirement already satisfied: pytz>=2020.1 in /usr/local/lib/python3.10/dist-packages (from pandas>=1.1.4->ultralytics) (2023.3.post1)\n",
            "Requirement already satisfied: charset-normalizer<4,>=2 in /usr/local/lib/python3.10/dist-packages (from requests>=2.23.0->ultralytics) (3.3.2)\n",
            "Requirement already satisfied: idna<4,>=2.5 in /usr/local/lib/python3.10/dist-packages (from requests>=2.23.0->ultralytics) (3.6)\n",
            "Requirement already satisfied: urllib3<3,>=1.21.1 in /usr/local/lib/python3.10/dist-packages (from requests>=2.23.0->ultralytics) (2.0.7)\n",
            "Requirement already satisfied: certifi>=2017.4.17 in /usr/local/lib/python3.10/dist-packages (from requests>=2.23.0->ultralytics) (2023.11.17)\n",
            "Requirement already satisfied: filelock in /usr/local/lib/python3.10/dist-packages (from torch>=1.8.0->ultralytics) (3.13.1)\n",
            "Requirement already satisfied: typing-extensions in /usr/local/lib/python3.10/dist-packages (from torch>=1.8.0->ultralytics) (4.5.0)\n",
            "Requirement already satisfied: sympy in /usr/local/lib/python3.10/dist-packages (from torch>=1.8.0->ultralytics) (1.12)\n",
            "Requirement already satisfied: networkx in /usr/local/lib/python3.10/dist-packages (from torch>=1.8.0->ultralytics) (3.2.1)\n",
            "Requirement already satisfied: jinja2 in /usr/local/lib/python3.10/dist-packages (from torch>=1.8.0->ultralytics) (3.1.2)\n",
            "Requirement already satisfied: fsspec in /usr/local/lib/python3.10/dist-packages (from torch>=1.8.0->ultralytics) (2023.6.0)\n",
            "Requirement already satisfied: triton==2.1.0 in /usr/local/lib/python3.10/dist-packages (from torch>=1.8.0->ultralytics) (2.1.0)\n",
            "Requirement already satisfied: six>=1.5 in /usr/local/lib/python3.10/dist-packages (from python-dateutil>=2.7->matplotlib>=3.3.0->ultralytics) (1.16.0)\n",
            "Requirement already satisfied: MarkupSafe>=2.0 in /usr/local/lib/python3.10/dist-packages (from jinja2->torch>=1.8.0->ultralytics) (2.1.3)\n",
            "Requirement already satisfied: mpmath>=0.19 in /usr/local/lib/python3.10/dist-packages (from sympy->torch>=1.8.0->ultralytics) (1.3.0)\n",
            "Installing collected packages: thop, ultralytics\n",
            "Successfully installed thop-0.1.1.post2209072238 ultralytics-8.0.222\n"
          ]
        }
      ],
      "source": [
        "!pip install -U ultralytics"
      ]
    },
    {
      "cell_type": "code",
      "source": [
        "import os\n",
        "\n",
        "from ultralytics import YOLO\n",
        "\n",
        "# Load a model\n",
        "model = YOLO(\"yolov8s.pt\")  # build a new model from scratch"
      ],
      "metadata": {
        "id": "h9Vz3mG7wc_S"
      },
      "execution_count": 19,
      "outputs": []
    },
    {
      "cell_type": "code",
      "source": [
        "ROOT_DIR = '/content/gdrive/MyDrive/200_cv'"
      ],
      "metadata": {
        "id": "ER4FgbXJwdBr"
      },
      "execution_count": 20,
      "outputs": []
    },
    {
      "cell_type": "code",
      "source": [
        "#train the model\n",
        "results = model.train(data=os.path.join(ROOT_DIR, \"config.yaml\"), epochs=10)"
      ],
      "metadata": {
        "colab": {
          "base_uri": "https://localhost:8080/"
        },
        "id": "DbtZOXsVwdET",
        "outputId": "c4ddcfaa-490e-4605-ee6f-a797486f731e"
      },
      "execution_count": 21,
      "outputs": [
        {
          "output_type": "stream",
          "name": "stdout",
          "text": [
            "Ultralytics YOLOv8.0.222 🚀 Python-3.10.12 torch-2.1.0+cu118 CPU (Intel Xeon 2.20GHz)\n",
            "\u001b[34m\u001b[1mengine/trainer: \u001b[0mtask=detect, mode=train, model=yolov8s.pt, data=/content/gdrive/MyDrive/200_cv/config.yaml, epochs=10, patience=50, batch=16, imgsz=640, save=True, save_period=-1, cache=False, device=None, workers=8, project=None, name=train2, exist_ok=False, pretrained=True, optimizer=auto, verbose=True, seed=0, deterministic=True, single_cls=False, rect=False, cos_lr=False, close_mosaic=10, resume=False, amp=True, fraction=1.0, profile=False, freeze=None, overlap_mask=True, mask_ratio=4, dropout=0.0, val=True, split=val, save_json=False, save_hybrid=False, conf=None, iou=0.7, max_det=300, half=False, dnn=False, plots=True, source=None, vid_stride=1, stream_buffer=False, visualize=False, augment=False, agnostic_nms=False, classes=None, retina_masks=False, show=False, save_frames=False, save_txt=False, save_conf=False, save_crop=False, show_labels=True, show_conf=True, show_boxes=True, line_width=None, format=torchscript, keras=False, optimize=False, int8=False, dynamic=False, simplify=False, opset=None, workspace=4, nms=False, lr0=0.01, lrf=0.01, momentum=0.937, weight_decay=0.0005, warmup_epochs=3.0, warmup_momentum=0.8, warmup_bias_lr=0.1, box=7.5, cls=0.5, dfl=1.5, pose=12.0, kobj=1.0, label_smoothing=0.0, nbs=64, hsv_h=0.015, hsv_s=0.7, hsv_v=0.4, degrees=0.0, translate=0.1, scale=0.5, shear=0.0, perspective=0.0, flipud=0.0, fliplr=0.5, mosaic=1.0, mixup=0.0, copy_paste=0.0, cfg=None, tracker=botsort.yaml, save_dir=runs/detect/train2\n",
            "Overriding model.yaml nc=80 with nc=12\n",
            "\n",
            "                   from  n    params  module                                       arguments                     \n",
            "  0                  -1  1       928  ultralytics.nn.modules.conv.Conv             [3, 32, 3, 2]                 \n",
            "  1                  -1  1     18560  ultralytics.nn.modules.conv.Conv             [32, 64, 3, 2]                \n",
            "  2                  -1  1     29056  ultralytics.nn.modules.block.C2f             [64, 64, 1, True]             \n",
            "  3                  -1  1     73984  ultralytics.nn.modules.conv.Conv             [64, 128, 3, 2]               \n",
            "  4                  -1  2    197632  ultralytics.nn.modules.block.C2f             [128, 128, 2, True]           \n",
            "  5                  -1  1    295424  ultralytics.nn.modules.conv.Conv             [128, 256, 3, 2]              \n",
            "  6                  -1  2    788480  ultralytics.nn.modules.block.C2f             [256, 256, 2, True]           \n",
            "  7                  -1  1   1180672  ultralytics.nn.modules.conv.Conv             [256, 512, 3, 2]              \n",
            "  8                  -1  1   1838080  ultralytics.nn.modules.block.C2f             [512, 512, 1, True]           \n",
            "  9                  -1  1    656896  ultralytics.nn.modules.block.SPPF            [512, 512, 5]                 \n",
            " 10                  -1  1         0  torch.nn.modules.upsampling.Upsample         [None, 2, 'nearest']          \n",
            " 11             [-1, 6]  1         0  ultralytics.nn.modules.conv.Concat           [1]                           \n",
            " 12                  -1  1    591360  ultralytics.nn.modules.block.C2f             [768, 256, 1]                 \n",
            " 13                  -1  1         0  torch.nn.modules.upsampling.Upsample         [None, 2, 'nearest']          \n",
            " 14             [-1, 4]  1         0  ultralytics.nn.modules.conv.Concat           [1]                           \n",
            " 15                  -1  1    148224  ultralytics.nn.modules.block.C2f             [384, 128, 1]                 \n",
            " 16                  -1  1    147712  ultralytics.nn.modules.conv.Conv             [128, 128, 3, 2]              \n",
            " 17            [-1, 12]  1         0  ultralytics.nn.modules.conv.Concat           [1]                           \n",
            " 18                  -1  1    493056  ultralytics.nn.modules.block.C2f             [384, 256, 1]                 \n",
            " 19                  -1  1    590336  ultralytics.nn.modules.conv.Conv             [256, 256, 3, 2]              \n",
            " 20             [-1, 9]  1         0  ultralytics.nn.modules.conv.Concat           [1]                           \n",
            " 21                  -1  1   1969152  ultralytics.nn.modules.block.C2f             [768, 512, 1]                 \n",
            " 22        [15, 18, 21]  1   2120692  ultralytics.nn.modules.head.Detect           [12, [128, 256, 512]]         \n",
            "Model summary: 225 layers, 11140244 parameters, 11140228 gradients, 28.7 GFLOPs\n",
            "\n",
            "Transferred 349/355 items from pretrained weights\n",
            "\u001b[34m\u001b[1mTensorBoard: \u001b[0mStart with 'tensorboard --logdir runs/detect/train2', view at http://localhost:6006/\n",
            "Freezing layer 'model.22.dfl.conv.weight'\n"
          ]
        },
        {
          "output_type": "stream",
          "name": "stderr",
          "text": [
            "\u001b[34m\u001b[1mtrain: \u001b[0mScanning /content/gdrive/MyDrive/200_cv/data/train/labels... 80 images, 0 backgrounds, 0 corrupt: 100%|██████████| 80/80 [00:00<00:00, 203.13it/s]\n"
          ]
        },
        {
          "output_type": "stream",
          "name": "stdout",
          "text": [
            "\u001b[34m\u001b[1mtrain: \u001b[0mNew cache created: /content/gdrive/MyDrive/200_cv/data/train/labels.cache\n",
            "\u001b[34m\u001b[1malbumentations: \u001b[0mBlur(p=0.01, blur_limit=(3, 7)), MedianBlur(p=0.01, blur_limit=(3, 7)), ToGray(p=0.01), CLAHE(p=0.01, clip_limit=(1, 4.0), tile_grid_size=(8, 8))\n"
          ]
        },
        {
          "output_type": "stream",
          "name": "stderr",
          "text": [
            "\u001b[34m\u001b[1mval: \u001b[0mScanning /content/gdrive/MyDrive/200_cv/data/val/labels... 20 images, 0 backgrounds, 0 corrupt: 100%|██████████| 20/20 [00:00<00:00, 187.43it/s]"
          ]
        },
        {
          "output_type": "stream",
          "name": "stdout",
          "text": [
            "\u001b[34m\u001b[1mval: \u001b[0mNew cache created: /content/gdrive/MyDrive/200_cv/data/val/labels.cache\n"
          ]
        },
        {
          "output_type": "stream",
          "name": "stderr",
          "text": [
            "\n"
          ]
        },
        {
          "output_type": "stream",
          "name": "stdout",
          "text": [
            "Plotting labels to runs/detect/train2/labels.jpg... \n",
            "\u001b[34m\u001b[1moptimizer:\u001b[0m 'optimizer=auto' found, ignoring 'lr0=0.01' and 'momentum=0.937' and determining best 'optimizer', 'lr0' and 'momentum' automatically... \n",
            "\u001b[34m\u001b[1moptimizer:\u001b[0m AdamW(lr=0.000625, momentum=0.9) with parameter groups 57 weight(decay=0.0), 64 weight(decay=0.0005), 63 bias(decay=0.0)\n",
            "Image sizes 640 train, 640 val\n",
            "Using 0 dataloader workers\n",
            "Logging results to \u001b[1mruns/detect/train2\u001b[0m\n",
            "Starting training for 10 epochs...\n",
            "Closing dataloader mosaic\n",
            "\u001b[34m\u001b[1malbumentations: \u001b[0mBlur(p=0.01, blur_limit=(3, 7)), MedianBlur(p=0.01, blur_limit=(3, 7)), ToGray(p=0.01), CLAHE(p=0.01, clip_limit=(1, 4.0), tile_grid_size=(8, 8))\n",
            "\n",
            "      Epoch    GPU_mem   box_loss   cls_loss   dfl_loss  Instances       Size\n"
          ]
        },
        {
          "output_type": "stream",
          "name": "stderr",
          "text": [
            "       1/10         0G      2.495      5.237      2.175        150        640: 100%|██████████| 5/5 [04:05<00:00, 49.19s/it]\n",
            "                 Class     Images  Instances      Box(P          R      mAP50  mAP50-95):   0%|          | 0/1 [00:00<?, ?it/s]"
          ]
        },
        {
          "output_type": "stream",
          "name": "stdout",
          "text": [
            "WARNING ⚠️ NMS time limit 1.500s exceeded\n"
          ]
        },
        {
          "output_type": "stream",
          "name": "stderr",
          "text": [
            "                 Class     Images  Instances      Box(P          R      mAP50  mAP50-95): 100%|██████████| 1/1 [00:17<00:00, 17.69s/it]"
          ]
        },
        {
          "output_type": "stream",
          "name": "stdout",
          "text": [
            "                   all         20        204      0.858    0.00556    0.00546    0.00151\n"
          ]
        },
        {
          "output_type": "stream",
          "name": "stderr",
          "text": [
            "\n"
          ]
        },
        {
          "output_type": "stream",
          "name": "stdout",
          "text": [
            "\n",
            "      Epoch    GPU_mem   box_loss   cls_loss   dfl_loss  Instances       Size\n"
          ]
        },
        {
          "output_type": "stream",
          "name": "stderr",
          "text": [
            "       2/10         0G      2.182       4.08      1.993        150        640: 100%|██████████| 5/5 [03:39<00:00, 43.83s/it]\n",
            "                 Class     Images  Instances      Box(P          R      mAP50  mAP50-95):   0%|          | 0/1 [00:00<?, ?it/s]"
          ]
        },
        {
          "output_type": "stream",
          "name": "stdout",
          "text": [
            "WARNING ⚠️ NMS time limit 1.500s exceeded\n"
          ]
        },
        {
          "output_type": "stream",
          "name": "stderr",
          "text": [
            "                 Class     Images  Instances      Box(P          R      mAP50  mAP50-95): 100%|██████████| 1/1 [00:17<00:00, 17.12s/it]"
          ]
        },
        {
          "output_type": "stream",
          "name": "stdout",
          "text": [
            "                   all         20        204     0.0862     0.0389      0.048     0.0238\n"
          ]
        },
        {
          "output_type": "stream",
          "name": "stderr",
          "text": [
            "\n"
          ]
        },
        {
          "output_type": "stream",
          "name": "stdout",
          "text": [
            "\n",
            "      Epoch    GPU_mem   box_loss   cls_loss   dfl_loss  Instances       Size\n"
          ]
        },
        {
          "output_type": "stream",
          "name": "stderr",
          "text": [
            "       3/10         0G        1.9      3.425       1.76        137        640: 100%|██████████| 5/5 [03:42<00:00, 44.45s/it]\n",
            "                 Class     Images  Instances      Box(P          R      mAP50  mAP50-95):   0%|          | 0/1 [00:00<?, ?it/s]"
          ]
        },
        {
          "output_type": "stream",
          "name": "stdout",
          "text": [
            "WARNING ⚠️ NMS time limit 1.500s exceeded\n"
          ]
        },
        {
          "output_type": "stream",
          "name": "stderr",
          "text": [
            "                 Class     Images  Instances      Box(P          R      mAP50  mAP50-95): 100%|██████████| 1/1 [00:16<00:00, 16.82s/it]"
          ]
        },
        {
          "output_type": "stream",
          "name": "stdout",
          "text": [
            "                   all         20        204      0.151     0.0268     0.0848     0.0456\n"
          ]
        },
        {
          "output_type": "stream",
          "name": "stderr",
          "text": [
            "\n"
          ]
        },
        {
          "output_type": "stream",
          "name": "stdout",
          "text": [
            "\n",
            "      Epoch    GPU_mem   box_loss   cls_loss   dfl_loss  Instances       Size\n"
          ]
        },
        {
          "output_type": "stream",
          "name": "stderr",
          "text": [
            "       4/10         0G      1.658       3.03      1.575        160        640: 100%|██████████| 5/5 [03:41<00:00, 44.32s/it]\n",
            "                 Class     Images  Instances      Box(P          R      mAP50  mAP50-95):   0%|          | 0/1 [00:00<?, ?it/s]"
          ]
        },
        {
          "output_type": "stream",
          "name": "stdout",
          "text": [
            "WARNING ⚠️ NMS time limit 1.500s exceeded\n"
          ]
        },
        {
          "output_type": "stream",
          "name": "stderr",
          "text": [
            "                 Class     Images  Instances      Box(P          R      mAP50  mAP50-95): 100%|██████████| 1/1 [00:17<00:00, 17.82s/it]"
          ]
        },
        {
          "output_type": "stream",
          "name": "stdout",
          "text": [
            "                   all         20        204     0.0774     0.0429     0.0519     0.0357\n"
          ]
        },
        {
          "output_type": "stream",
          "name": "stderr",
          "text": [
            "\n"
          ]
        },
        {
          "output_type": "stream",
          "name": "stdout",
          "text": [
            "\n",
            "      Epoch    GPU_mem   box_loss   cls_loss   dfl_loss  Instances       Size\n"
          ]
        },
        {
          "output_type": "stream",
          "name": "stderr",
          "text": [
            "       5/10         0G      1.521       2.73       1.49        158        640: 100%|██████████| 5/5 [03:40<00:00, 44.18s/it]\n",
            "                 Class     Images  Instances      Box(P          R      mAP50  mAP50-95):   0%|          | 0/1 [00:00<?, ?it/s]"
          ]
        },
        {
          "output_type": "stream",
          "name": "stdout",
          "text": [
            "WARNING ⚠️ NMS time limit 1.500s exceeded\n"
          ]
        },
        {
          "output_type": "stream",
          "name": "stderr",
          "text": [
            "                 Class     Images  Instances      Box(P          R      mAP50  mAP50-95): 100%|██████████| 1/1 [00:16<00:00, 16.88s/it]"
          ]
        },
        {
          "output_type": "stream",
          "name": "stdout",
          "text": [
            "                   all         20        204       0.19     0.0789      0.073     0.0477\n"
          ]
        },
        {
          "output_type": "stream",
          "name": "stderr",
          "text": [
            "\n"
          ]
        },
        {
          "output_type": "stream",
          "name": "stdout",
          "text": [
            "\n",
            "      Epoch    GPU_mem   box_loss   cls_loss   dfl_loss  Instances       Size\n"
          ]
        },
        {
          "output_type": "stream",
          "name": "stderr",
          "text": [
            "       6/10         0G      1.447      2.534      1.431        148        640: 100%|██████████| 5/5 [03:40<00:00, 44.19s/it]\n",
            "                 Class     Images  Instances      Box(P          R      mAP50  mAP50-95):   0%|          | 0/1 [00:00<?, ?it/s]"
          ]
        },
        {
          "output_type": "stream",
          "name": "stdout",
          "text": [
            "WARNING ⚠️ NMS time limit 1.500s exceeded\n"
          ]
        },
        {
          "output_type": "stream",
          "name": "stderr",
          "text": [
            "                 Class     Images  Instances      Box(P          R      mAP50  mAP50-95): 100%|██████████| 1/1 [00:18<00:00, 18.16s/it]"
          ]
        },
        {
          "output_type": "stream",
          "name": "stdout",
          "text": [
            "                   all         20        204      0.383     0.0981      0.114     0.0689\n"
          ]
        },
        {
          "output_type": "stream",
          "name": "stderr",
          "text": [
            "\n"
          ]
        },
        {
          "output_type": "stream",
          "name": "stdout",
          "text": [
            "\n",
            "      Epoch    GPU_mem   box_loss   cls_loss   dfl_loss  Instances       Size\n"
          ]
        },
        {
          "output_type": "stream",
          "name": "stderr",
          "text": [
            "       7/10         0G      1.372      2.318      1.391        150        640: 100%|██████████| 5/5 [03:45<00:00, 45.13s/it]\n",
            "                 Class     Images  Instances      Box(P          R      mAP50  mAP50-95):   0%|          | 0/1 [00:00<?, ?it/s]"
          ]
        },
        {
          "output_type": "stream",
          "name": "stdout",
          "text": [
            "WARNING ⚠️ NMS time limit 1.500s exceeded\n"
          ]
        },
        {
          "output_type": "stream",
          "name": "stderr",
          "text": [
            "                 Class     Images  Instances      Box(P          R      mAP50  mAP50-95): 100%|██████████| 1/1 [00:18<00:00, 18.01s/it]"
          ]
        },
        {
          "output_type": "stream",
          "name": "stdout",
          "text": [
            "                   all         20        204      0.204      0.204      0.142     0.0811\n"
          ]
        },
        {
          "output_type": "stream",
          "name": "stderr",
          "text": [
            "\n"
          ]
        },
        {
          "output_type": "stream",
          "name": "stdout",
          "text": [
            "\n",
            "      Epoch    GPU_mem   box_loss   cls_loss   dfl_loss  Instances       Size\n"
          ]
        },
        {
          "output_type": "stream",
          "name": "stderr",
          "text": [
            "       8/10         0G       1.32      2.244      1.324        161        640: 100%|██████████| 5/5 [03:43<00:00, 44.70s/it]\n",
            "                 Class     Images  Instances      Box(P          R      mAP50  mAP50-95):   0%|          | 0/1 [00:00<?, ?it/s]"
          ]
        },
        {
          "output_type": "stream",
          "name": "stdout",
          "text": [
            "WARNING ⚠️ NMS time limit 1.500s exceeded\n"
          ]
        },
        {
          "output_type": "stream",
          "name": "stderr",
          "text": [
            "                 Class     Images  Instances      Box(P          R      mAP50  mAP50-95): 100%|██████████| 1/1 [00:18<00:00, 18.43s/it]"
          ]
        },
        {
          "output_type": "stream",
          "name": "stdout",
          "text": [
            "                   all         20        204      0.277      0.203      0.163     0.0967\n"
          ]
        },
        {
          "output_type": "stream",
          "name": "stderr",
          "text": [
            "\n"
          ]
        },
        {
          "output_type": "stream",
          "name": "stdout",
          "text": [
            "\n",
            "      Epoch    GPU_mem   box_loss   cls_loss   dfl_loss  Instances       Size\n"
          ]
        },
        {
          "output_type": "stream",
          "name": "stderr",
          "text": [
            "       9/10         0G      1.228      2.114      1.283        146        640: 100%|██████████| 5/5 [03:42<00:00, 44.45s/it]\n",
            "                 Class     Images  Instances      Box(P          R      mAP50  mAP50-95):   0%|          | 0/1 [00:00<?, ?it/s]"
          ]
        },
        {
          "output_type": "stream",
          "name": "stdout",
          "text": [
            "WARNING ⚠️ NMS time limit 1.500s exceeded\n"
          ]
        },
        {
          "output_type": "stream",
          "name": "stderr",
          "text": [
            "                 Class     Images  Instances      Box(P          R      mAP50  mAP50-95): 100%|██████████| 1/1 [00:17<00:00, 17.28s/it]"
          ]
        },
        {
          "output_type": "stream",
          "name": "stdout",
          "text": [
            "                   all         20        204      0.244      0.257      0.175      0.108\n"
          ]
        },
        {
          "output_type": "stream",
          "name": "stderr",
          "text": [
            "\n"
          ]
        },
        {
          "output_type": "stream",
          "name": "stdout",
          "text": [
            "\n",
            "      Epoch    GPU_mem   box_loss   cls_loss   dfl_loss  Instances       Size\n"
          ]
        },
        {
          "output_type": "stream",
          "name": "stderr",
          "text": [
            "      10/10         0G      1.195      2.036      1.258        150        640: 100%|██████████| 5/5 [03:40<00:00, 44.06s/it]\n",
            "                 Class     Images  Instances      Box(P          R      mAP50  mAP50-95):   0%|          | 0/1 [00:00<?, ?it/s]"
          ]
        },
        {
          "output_type": "stream",
          "name": "stdout",
          "text": [
            "WARNING ⚠️ NMS time limit 1.500s exceeded\n"
          ]
        },
        {
          "output_type": "stream",
          "name": "stderr",
          "text": [
            "                 Class     Images  Instances      Box(P          R      mAP50  mAP50-95): 100%|██████████| 1/1 [00:18<00:00, 18.14s/it]"
          ]
        },
        {
          "output_type": "stream",
          "name": "stdout",
          "text": [
            "                   all         20        204      0.269      0.385      0.273      0.168\n"
          ]
        },
        {
          "output_type": "stream",
          "name": "stderr",
          "text": [
            "\n"
          ]
        },
        {
          "output_type": "stream",
          "name": "stdout",
          "text": [
            "\n",
            "10 epochs completed in 0.695 hours.\n",
            "Optimizer stripped from runs/detect/train2/weights/last.pt, 22.5MB\n",
            "Optimizer stripped from runs/detect/train2/weights/best.pt, 22.5MB\n",
            "\n",
            "Validating runs/detect/train2/weights/best.pt...\n",
            "Ultralytics YOLOv8.0.222 🚀 Python-3.10.12 torch-2.1.0+cu118 CPU (Intel Xeon 2.20GHz)\n",
            "Model summary (fused): 168 layers, 11130228 parameters, 0 gradients, 28.5 GFLOPs\n"
          ]
        },
        {
          "output_type": "stream",
          "name": "stderr",
          "text": [
            "\r                 Class     Images  Instances      Box(P          R      mAP50  mAP50-95):   0%|          | 0/1 [00:00<?, ?it/s]"
          ]
        },
        {
          "output_type": "stream",
          "name": "stdout",
          "text": [
            "WARNING ⚠️ NMS time limit 1.500s exceeded\n"
          ]
        },
        {
          "output_type": "stream",
          "name": "stderr",
          "text": [
            "                 Class     Images  Instances      Box(P          R      mAP50  mAP50-95): 100%|██████████| 1/1 [00:17<00:00, 17.69s/it]\n"
          ]
        },
        {
          "output_type": "stream",
          "name": "stdout",
          "text": [
            "                   all         20        204      0.272      0.388      0.275      0.169\n",
            "            Experience         20         16      0.084       0.25     0.0806     0.0557\n",
            "             Education         20         20      0.133       0.85      0.261        0.2\n",
            "              Projects         20         15      0.334      0.667      0.295      0.148\n",
            "        Certifications         20         10          0          0     0.0421     0.0276\n",
            "             Languages         20         18       0.29      0.278      0.211      0.125\n",
            "                Skills         20         21      0.213      0.286      0.227       0.17\n",
            "               Picture         20         18      0.819      0.889      0.895       0.65\n",
            "                  Name         20         19      0.819      0.477       0.59      0.278\n",
            "                Profil         20         26      0.353      0.462      0.367      0.184\n",
            "               Contact         20         22      0.154      0.273      0.155     0.0936\n",
            "             Interests         20         10          0          0     0.0927     0.0499\n",
            "             Community         20          9     0.0621      0.222     0.0774     0.0468\n",
            "Speed: 2.7ms preprocess, 696.6ms inference, 0.0ms loss, 78.5ms postprocess per image\n",
            "Results saved to \u001b[1mruns/detect/train2\u001b[0m\n"
          ]
        }
      ]
    },
    {
      "cell_type": "code",
      "source": [
        "#make prediction\n",
        "model.predict('/content/gdrive/MyDrive/200_cv/data/val/images/6c3d7b4f-6fcc-403c-901e-f7cb8d70e369.jpg',save= True, save_txt=True)"
      ],
      "metadata": {
        "colab": {
          "base_uri": "https://localhost:8080/"
        },
        "id": "CiMuJHB_wdGs",
        "outputId": "6faa9372-9ecf-4939-b6b4-e4e5ce78789c"
      },
      "execution_count": 23,
      "outputs": [
        {
          "output_type": "stream",
          "name": "stdout",
          "text": [
            "\n",
            "image 1/1 /content/gdrive/MyDrive/200_cv/data/val/images/6c3d7b4f-6fcc-403c-901e-f7cb8d70e369.jpg: 640x512 3 Educations, 1 Skills, 1 Picture, 2 Contacts, 1085.4ms\n",
            "Speed: 5.9ms preprocess, 1085.4ms inference, 1.7ms postprocess per image at shape (1, 3, 640, 512)\n",
            "Results saved to \u001b[1mruns/detect/train23\u001b[0m\n",
            "1 label saved to runs/detect/train23/labels\n"
          ]
        },
        {
          "output_type": "execute_result",
          "data": {
            "text/plain": [
              "[ultralytics.engine.results.Results object with attributes:\n",
              " \n",
              " boxes: ultralytics.engine.results.Boxes object\n",
              " keypoints: None\n",
              " masks: None\n",
              " names: {0: 'Experience', 1: 'Education', 2: 'Projects', 3: 'Certifications', 4: 'Languages', 5: 'Skills', 6: 'Picture', 7: 'Name', 8: 'Profil', 9: 'Contact', 10: 'Interests', 11: 'Community'}\n",
              " orig_img: array([[[233, 233, 233],\n",
              "         [233, 233, 233],\n",
              "         [233, 233, 233],\n",
              "         ...,\n",
              "         [255, 255, 255],\n",
              "         [255, 255, 255],\n",
              "         [255, 255, 255]],\n",
              " \n",
              "        [[233, 233, 233],\n",
              "         [233, 233, 233],\n",
              "         [233, 233, 233],\n",
              "         ...,\n",
              "         [255, 255, 255],\n",
              "         [255, 255, 255],\n",
              "         [255, 255, 255]],\n",
              " \n",
              "        [[233, 233, 233],\n",
              "         [233, 233, 233],\n",
              "         [233, 233, 233],\n",
              "         ...,\n",
              "         [255, 255, 255],\n",
              "         [255, 255, 255],\n",
              "         [255, 255, 255]],\n",
              " \n",
              "        ...,\n",
              " \n",
              "        [[231, 231, 231],\n",
              "         [231, 231, 231],\n",
              "         [231, 231, 231],\n",
              "         ...,\n",
              "         [231, 231, 231],\n",
              "         [231, 231, 231],\n",
              "         [231, 231, 231]],\n",
              " \n",
              "        [[235, 235, 235],\n",
              "         [235, 235, 235],\n",
              "         [235, 235, 235],\n",
              "         ...,\n",
              "         [235, 235, 235],\n",
              "         [235, 235, 235],\n",
              "         [235, 235, 235]],\n",
              " \n",
              "        [[253, 253, 253],\n",
              "         [253, 253, 253],\n",
              "         [253, 253, 253],\n",
              "         ...,\n",
              "         [253, 253, 253],\n",
              "         [253, 253, 253],\n",
              "         [253, 253, 253]]], dtype=uint8)\n",
              " orig_shape: (3301, 2550)\n",
              " path: '/content/gdrive/MyDrive/200_cv/data/val/images/6c3d7b4f-6fcc-403c-901e-f7cb8d70e369.jpg'\n",
              " probs: None\n",
              " save_dir: 'runs/detect/train23'\n",
              " speed: {'preprocess': 5.947351455688477, 'inference': 1085.4499340057373, 'postprocess': 1.739501953125}]"
            ]
          },
          "metadata": {},
          "execution_count": 23
        }
      ]
    },
    {
      "cell_type": "code",
      "source": [
        "#dwonload the weights (best.pt and last.pt)"
      ],
      "metadata": {
        "id": "dSjtG7CgCpc9"
      },
      "execution_count": null,
      "outputs": []
    }
  ],
  "metadata": {
    "colab": {
      "provenance": []
    },
    "kernelspec": {
      "display_name": "Python 3",
      "name": "python3"
    },
    "language_info": {
      "name": "python"
    }
  },
  "nbformat": 4,
  "nbformat_minor": 0
}